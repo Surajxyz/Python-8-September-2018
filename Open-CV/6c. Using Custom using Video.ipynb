{
 "cells": [
  {
   "cell_type": "markdown",
   "metadata": {},
   "source": [
    "# Load the library files and our model"
   ]
  },
  {
   "cell_type": "code",
   "execution_count": 1,
   "metadata": {},
   "outputs": [],
   "source": [
    "import cv2\n",
    "import face_recognition\n",
    "import pickle\n",
    "import numpy as np"
   ]
  },
  {
   "cell_type": "code",
   "execution_count": 2,
   "metadata": {},
   "outputs": [],
   "source": [
    "with open('trained_faces.dat', 'rb') as f:\n",
    "    all_face_encodings = pickle.load(f)"
   ]
  },
  {
   "cell_type": "code",
   "execution_count": 3,
   "metadata": {},
   "outputs": [],
   "source": [
    "face_names = ['Gurjas']\n",
    "user_face_encodings = np.array(list(all_face_encodings))"
   ]
  },
  {
   "cell_type": "markdown",
   "metadata": {},
   "source": [
    "## Using Face Detection using Video Camera"
   ]
  },
  {
   "cell_type": "code",
   "execution_count": 4,
   "metadata": {},
   "outputs": [],
   "source": [
    "video = cv2.VideoCapture(0)\n",
    "\n",
    "while True:\n",
    "    ret, frame = video.read()\n",
    "    \n",
    "    face_locations = face_recognition.face_locations(frame)\n",
    "    unknown_face_encodings = face_recognition.face_encodings(frame, face_locations)\n",
    "    \n",
    "    names = []\n",
    "    for face_encoding in unknown_face_encodings:\n",
    "        matches = face_recognition.compare_faces(user_face_encodings, face_encoding)\n",
    "        \n",
    "        name = \"unknown\"\n",
    "        \n",
    "        if True in matches:\n",
    "            first_match_index = matches.index(True)\n",
    "            name = 'Gurjas'\n",
    "            \n",
    "        names.append(name)\n",
    "    \n",
    "    for (top, right, bottom, left), name in zip(face_locations, names):\n",
    "        top = top+4\n",
    "        right = right+4\n",
    "        bottom = bottom+4\n",
    "        left = left+4\n",
    "        \n",
    "        ## draw rectangle around face\n",
    "        cv2.rectangle(frame, (left, top), (right, bottom), (0, 0, 255), 2)\n",
    "        \n",
    "        ## draw a rectangle for inserting text/name of the user\n",
    "        cv2.rectangle(frame, (left, bottom - 35), (right, bottom), (0, 0, 255), cv2.FILLED)\n",
    "        cv2.putText(frame, name, (left+6, bottom-6), cv2.FONT_HERSHEY_DUPLEX, 0.5, (255, 255, 255), 1)\n",
    "        \n",
    "        \n",
    "        \n",
    "    cv2.imshow('Video', frame)\n",
    "        \n",
    "    if cv2.waitKey(1) & 0xff==ord('q'): #13 is the Enter Key\n",
    "        break\n",
    "        \n",
    "video.release()\n",
    "cv2.destroyAllWindows()     "
   ]
  }
 ],
 "metadata": {
  "kernelspec": {
   "display_name": "Python 3",
   "language": "python",
   "name": "python3"
  },
  "language_info": {
   "codemirror_mode": {
    "name": "ipython",
    "version": 3
   },
   "file_extension": ".py",
   "mimetype": "text/x-python",
   "name": "python",
   "nbconvert_exporter": "python",
   "pygments_lexer": "ipython3",
   "version": "3.6.8"
  },
  "latex_envs": {
   "LaTeX_envs_menu_present": true,
   "autoclose": false,
   "autocomplete": true,
   "bibliofile": "biblio.bib",
   "cite_by": "apalike",
   "current_citInitial": 1,
   "eqLabelWithNumbers": true,
   "eqNumInitial": 1,
   "hotkeys": {
    "equation": "Ctrl-E",
    "itemize": "Ctrl-I"
   },
   "labels_anchors": false,
   "latex_user_defs": false,
   "report_style_numbering": false,
   "user_envs_cfg": false
  }
 },
 "nbformat": 4,
 "nbformat_minor": 2
}

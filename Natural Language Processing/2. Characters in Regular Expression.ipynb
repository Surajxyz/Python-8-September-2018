{
 "cells": [
  {
   "cell_type": "markdown",
   "metadata": {},
   "source": [
    "# Meta Characters"
   ]
  },
  {
   "cell_type": "markdown",
   "metadata": {},
   "source": [
    "* . : wilcard, matches a single character.\n",
    "* ^ : start of string.\n",
    "* $ : end of string.\n",
    "* [  ] : matches one of the set of characters within [   ].\n",
    "* [a-z] : matches one of the range of characters a, b, c...z.\n",
    "* [^abc] : matches a character that is not a,b or c.\n",
    "* a|b : matches either a or b, where a and b are strings.\n",
    "* () : scoping for operators.\n",
    "* \\ : Escape characters.\n",
    "* \\b : Matches word boundary.\n",
    "* \\d : Any digit equivalent to [0-9].\n",
    "* \\D : Any non-digit equivalent to [^0-9].\n",
    "* \\s : Any whitespace equivalent to [ \\t\\n\\r\\f\\v].\n",
    "* \\S : Any non-whitespace equivalent to [^ \\t\\n\\r\\f\\v].\n",
    "* \\w : Alphanumeric character, equivalent to [a-zA-Z0-9].\n",
    "* \\W : Non-aplhanumeric character, equivalent to [^a-zA-Z0-9]."
   ]
  },
  {
   "cell_type": "markdown",
   "metadata": {},
   "source": [
    "## Reptitions"
   ]
  },
  {
   "cell_type": "markdown",
   "metadata": {},
   "source": [
    "* `*` : matches zero or more occurences.\n",
    "* `+` : matches one or more occurences.\n",
    "* `?` : matches zero or one occurences.\n",
    "* `{n}` : exactly n repitions, n>=0.\n",
    "* `{n,}` : at least n repitions.\n",
    "* `{,n}` : at most n reptitions.\n",
    "* `{m, n}` : at least m and at most n reptitions."
   ]
  }
 ],
 "metadata": {
  "kernelspec": {
   "display_name": "Python 3",
   "language": "python",
   "name": "python3"
  },
  "language_info": {
   "codemirror_mode": {
    "name": "ipython",
    "version": 3
   },
   "file_extension": ".py",
   "mimetype": "text/x-python",
   "name": "python",
   "nbconvert_exporter": "python",
   "pygments_lexer": "ipython3",
   "version": "3.6.6"
  }
 },
 "nbformat": 4,
 "nbformat_minor": 2
}
